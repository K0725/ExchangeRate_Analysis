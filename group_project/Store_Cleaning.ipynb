{
 "cells": [
  {
   "cell_type": "markdown",
   "id": "5bf458e2",
   "metadata": {},
   "source": [
    "# Exchange rates Data"
   ]
  },
  {
   "cell_type": "code",
   "execution_count": 3,
   "id": "a6ed56b8",
   "metadata": {},
   "outputs": [],
   "source": [
    "import pandas as pd\n",
    "import numpy as np\n",
    "\n",
    "\n",
    "df = pd.read_csv('DEXJPUS.csv', names=[\"dates\", \"rates\"])\n",
    "\n"
   ]
  },
  {
   "cell_type": "code",
   "execution_count": 2,
   "id": "0d81cc50",
   "metadata": {},
   "outputs": [],
   "source": [
    "#replacing missing data with NaN\n",
    "\n",
    "df = df.replace('.', np.nan)\n",
    "\n",
    "#change from str to numerical\n",
    "df['rates'] = pd.to_numeric(df['rates'], errors='coerce')\n",
    "\n"
   ]
  },
  {
   "cell_type": "markdown",
   "id": "1b0639e4",
   "metadata": {},
   "source": [
    "## Filling Missing data"
   ]
  },
  {
   "cell_type": "code",
   "execution_count": 3,
   "id": "658c7870",
   "metadata": {
    "scrolled": true
   },
   "outputs": [
    {
     "name": "stdout",
     "output_type": "stream",
     "text": [
      "dates    0\n",
      "rates    0\n",
      "dtype: int64\n",
      "         dates  rates\n",
      "0        dates  110.5\n",
      "1        dates  110.5\n",
      "2        dates  110.5\n",
      "3         DATE  110.5\n",
      "4   1990-01-02  146.2\n",
      "5   1990-01-03  145.7\n",
      "6   1990-01-04  143.4\n",
      "7   1990-01-05  143.8\n",
      "8   1990-01-08  144.1\n",
      "9   1990-01-09  145.2\n",
      "10  1990-01-10  145.2\n",
      "11  1990-01-11  145.4\n",
      "12  1990-01-12  145.4\n",
      "13  1990-01-15  110.5\n",
      "14  1990-01-16  145.5\n",
      "15  1990-01-17  145.5\n",
      "16  1990-01-18  146.1\n",
      "17  1990-01-19  145.6\n",
      "18  1990-01-22  146.4\n",
      "19  1990-01-23  146.1\n",
      "20  1990-01-24  145.3\n",
      "21  1990-01-25  144.4\n",
      "22  1990-01-26  143.4\n",
      "23  1990-01-29  143.1\n",
      "24  1990-01-30  144.1\n",
      "25  1990-01-31  144.6\n",
      "26  1990-02-01  144.9\n",
      "27  1990-02-02  145.4\n",
      "28  1990-02-05  145.4\n",
      "29  1990-02-06  145.1\n",
      "30  1990-02-07  145.5\n",
      "31  1990-02-08  145.4\n",
      "32  1990-02-09  145.2\n",
      "33  1990-02-12  144.2\n",
      "34  1990-02-13  144.4\n",
      "35  1990-02-14  144.3\n",
      "36  1990-02-15  144.4\n",
      "37  1990-02-16  144.2\n",
      "38  1990-02-19  110.5\n",
      "39  1990-02-20  145.4\n",
      "40  1990-02-21  145.3\n",
      "41  1990-02-22  145.9\n",
      "42  1990-02-23  146.9\n",
      "43  1990-02-26  148.8\n",
      "44  1990-02-27  148.6\n",
      "45  1990-02-28  148.8\n",
      "46  1990-03-01  149.7\n",
      "47  1990-03-02  150.3\n",
      "48  1990-03-05  149.8\n",
      "49  1990-03-06  149.8\n"
     ]
    }
   ],
   "source": [
    "mean_value = df['rates'].mean()\n",
    "\n",
    "# Fill in the missing value with the mean value\n",
    "df['rates'].fillna(mean_value, inplace=True)\n",
    "\n",
    "#round\n",
    "df['rates'] = df['rates'].round(1)\n",
    "\n",
    "\n",
    "\n",
    "\n",
    "# Verify that there are no more missing values\n",
    "print(df.isnull().sum())\n",
    "\n",
    "#change back to string\n",
    "df['rates'] = df['rates'].astype(str)\n",
    "\n",
    "df.to_csv('DEXJPUS.csv', index=False)\n",
    "\n",
    "print(df.head(50))"
   ]
  },
  {
   "cell_type": "markdown",
   "id": "8f8dc986",
   "metadata": {},
   "source": [
    "# GDP Cleaning data"
   ]
  },
  {
   "cell_type": "code",
   "execution_count": 5,
   "id": "92e7621f",
   "metadata": {},
   "outputs": [
    {
     "name": "stdout",
     "output_type": "stream",
     "text": [
      "          DATE      GDP\n",
      "0         DATE      GDP\n",
      "1   1947-01-01  243.164\n",
      "2   1947-04-01  245.968\n",
      "3   1947-07-01  249.585\n",
      "4   1947-10-01  259.745\n",
      "5   1948-01-01  265.742\n",
      "6   1948-04-01  272.567\n",
      "7   1948-07-01  279.196\n",
      "8   1948-10-01  280.366\n",
      "9   1949-01-01  275.034\n",
      "10  1949-04-01  271.351\n",
      "11  1949-07-01  272.889\n",
      "12  1949-10-01  270.627\n",
      "13  1950-01-01  280.828\n",
      "14  1950-04-01  290.383\n",
      "15  1950-07-01  308.153\n",
      "16  1950-10-01  319.945\n",
      "17  1951-01-01    336.0\n",
      "18  1951-04-01   344.09\n",
      "19  1951-07-01  351.385\n",
      "20  1951-10-01  356.178\n",
      "21  1952-01-01   359.82\n",
      "22  1952-04-01   361.03\n",
      "23  1952-07-01  367.701\n",
      "24  1952-10-01  380.812\n",
      "25  1953-01-01   387.98\n",
      "26  1953-04-01  391.749\n",
      "27  1953-07-01  391.171\n",
      "28  1953-10-01   385.97\n",
      "29  1954-01-01  385.345\n",
      "30  1954-04-01  386.121\n",
      "31  1954-07-01  390.996\n",
      "32  1954-10-01  399.734\n",
      "33  1955-01-01  413.073\n",
      "34  1955-04-01  421.532\n",
      "35  1955-07-01  430.221\n",
      "36  1955-10-01  437.092\n",
      "37  1956-01-01  439.746\n",
      "38  1956-04-01   446.01\n",
      "39  1956-07-01  451.191\n",
      "40  1956-10-01  460.463\n",
      "41  1957-01-01  469.779\n",
      "42  1957-04-01  472.025\n",
      "43  1957-07-01   479.49\n",
      "44  1957-10-01  474.864\n",
      "45  1958-01-01   467.54\n",
      "46  1958-04-01  471.978\n",
      "47  1958-07-01  485.841\n",
      "48  1958-10-01  499.555\n",
      "49  1959-01-01   510.33\n"
     ]
    }
   ],
   "source": [
    "df2 = pd.read_csv('GDP.csv', names=[\"DATE\", \"GDP\"])\n",
    "# data looks good each year has 4th quater each year"
   ]
  },
  {
   "cell_type": "markdown",
   "id": "580bc97f",
   "metadata": {},
   "source": [
    "# JP GDP data"
   ]
  },
  {
   "cell_type": "code",
   "execution_count": 11,
   "id": "e2ee6f5c",
   "metadata": {},
   "outputs": [
    {
     "name": "stdout",
     "output_type": "stream",
     "text": [
      "          DATE       RATE\n",
      "0         DATE       RATE\n",
      "1   1994-01-01   446276.5\n",
      "2   1994-04-01   443822.8\n",
      "3   1994-07-01   448928.5\n",
      "4   1994-10-01   447124.9\n",
      "5   1995-01-01   452096.3\n",
      "6   1995-04-01   456350.0\n",
      "7   1995-07-01   461698.4\n",
      "8   1995-10-01   462803.1\n",
      "9   1996-01-01   466601.9\n",
      "10  1996-04-01   472555.5\n",
      "11  1996-07-01   473152.5\n",
      "12  1996-10-01   478409.5\n",
      "13  1997-01-01   479667.6\n",
      "14  1997-04-01  476077.60\n",
      "15  1997-07-01   477003.8\n",
      "16  1997-10-01   477155.3\n",
      "17  1998-01-01   471380.4\n",
      "18  1998-04-01   469303.7\n",
      "19  1998-07-01   470143.7\n",
      "20  1998-10-01   473904.2\n",
      "21  1999-01-01   467403.5\n",
      "22  1999-04-01  469175.40\n",
      "23  1999-07-01  471675.10\n",
      "24  1999-10-01  471841.20\n",
      "25  2000-01-01   479861.0\n",
      "26  2000-04-01   482127.1\n",
      "27  2000-07-01   482244.3\n",
      "28  2000-10-01   486944.5\n",
      "29  2001-01-01   490543.8\n"
     ]
    }
   ],
   "source": [
    "df3 = pd.read_csv('JP_GDP.csv', names= ['DATE', 'RATE'])\n",
    "print(df3.head(30))"
   ]
  },
  {
   "cell_type": "markdown",
   "id": "e6bb2899",
   "metadata": {},
   "source": [
    "# Federal Funds (interest rate) data|"
   ]
  },
  {
   "cell_type": "code",
   "execution_count": 18,
   "id": "80390465",
   "metadata": {},
   "outputs": [
    {
     "name": "stdout",
     "output_type": "stream",
     "text": [
      "The following years are missing some months:\n",
      "Int64Index([2023], dtype='int64', name='DATE')\n"
     ]
    }
   ],
   "source": [
    "import pandas as pd\n",
    "\n",
    "df4 = pd.read_csv('FEDFUNDS.csv',skiprows=1, names=['DATE', 'FEDFUNDS'])\n",
    "\n",
    "df4['DATE'] = pd.to_datetime(df4['DATE'])\n",
    "\n",
    "# Group the data by year and month and count the number of unique months for each year\n",
    "counts = df4.groupby([df4['DATE'].dt.year])['DATE'].nunique()\n",
    "\n",
    "missing_years = counts[counts != 12].index\n",
    "\n",
    "# Print the missing years\n",
    "if len(missing_years) == 0:\n",
    "    print(\"All years have all 12 months.\")\n",
    "else:\n",
    "    print(\"The following years are missing some months:\")\n",
    "    print(missing_years) #It should display missing because I want 1990 1/1 to 2023 1/1 "
   ]
  },
  {
   "cell_type": "code",
   "execution_count": null,
   "id": "47d34999",
   "metadata": {},
   "outputs": [],
   "source": []
  },
  {
   "cell_type": "code",
   "execution_count": null,
   "id": "0c343d08",
   "metadata": {},
   "outputs": [],
   "source": []
  },
  {
   "cell_type": "code",
   "execution_count": null,
   "id": "10be9fa8",
   "metadata": {},
   "outputs": [],
   "source": []
  },
  {
   "cell_type": "code",
   "execution_count": null,
   "id": "ff26e95d",
   "metadata": {},
   "outputs": [],
   "source": []
  },
  {
   "cell_type": "code",
   "execution_count": null,
   "id": "b04e93cb",
   "metadata": {},
   "outputs": [],
   "source": []
  },
  {
   "cell_type": "code",
   "execution_count": null,
   "id": "4de13fcf",
   "metadata": {},
   "outputs": [],
   "source": []
  },
  {
   "cell_type": "code",
   "execution_count": null,
   "id": "b01683f8",
   "metadata": {},
   "outputs": [],
   "source": []
  },
  {
   "cell_type": "code",
   "execution_count": null,
   "id": "7af78d20",
   "metadata": {},
   "outputs": [],
   "source": []
  },
  {
   "cell_type": "code",
   "execution_count": null,
   "id": "24bda2fc",
   "metadata": {},
   "outputs": [],
   "source": []
  },
  {
   "cell_type": "code",
   "execution_count": null,
   "id": "b0be3762",
   "metadata": {},
   "outputs": [],
   "source": []
  },
  {
   "cell_type": "code",
   "execution_count": null,
   "id": "4324cfaf",
   "metadata": {},
   "outputs": [],
   "source": []
  }
 ],
 "metadata": {
  "kernelspec": {
   "display_name": "Python 3 (ipykernel)",
   "language": "python",
   "name": "python3"
  },
  "language_info": {
   "codemirror_mode": {
    "name": "ipython",
    "version": 3
   },
   "file_extension": ".py",
   "mimetype": "text/x-python",
   "name": "python",
   "nbconvert_exporter": "python",
   "pygments_lexer": "ipython3",
   "version": "3.9.13"
  }
 },
 "nbformat": 4,
 "nbformat_minor": 5
}
